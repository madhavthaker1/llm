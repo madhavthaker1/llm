{
 "cells": [
  {
   "cell_type": "markdown",
   "id": "606986be-fd43-4b0f-b69b-02250e57e4b0",
   "metadata": {},
   "source": [
    "### Necessary imports"
   ]
  },
  {
   "cell_type": "code",
   "execution_count": 2,
   "id": "ae9d6495-af97-405d-b4d6-63b322cb82d5",
   "metadata": {
    "tags": []
   },
   "outputs": [],
   "source": [
    "!pip install -q -U torch datasets transformers tensorflow langchain playwright html2text sentence_transformers faiss-cpu\n",
    "!pip install -q accelerate==0.21.0 peft==0.4.0 bitsandbytes==0.40.2 trl==0.4.7"
   ]
  },
  {
   "cell_type": "markdown",
   "id": "bacdda41-708b-4af8-88a9-5056cbd08bf4",
   "metadata": {},
   "source": [
    "### Dependencies"
   ]
  },
  {
   "cell_type": "code",
   "execution_count": 14,
   "id": "505ca9a3-8c27-442e-bca6-154a65186d01",
   "metadata": {
    "tags": []
   },
   "outputs": [],
   "source": [
    "import os\n",
    "import torch\n",
    "from transformers import (\n",
    "    AutoModelForCausalLM,\n",
    "    AutoTokenizer,\n",
    "    BitsAndBytesConfig,\n",
    "    pipeline\n",
    ")\n",
    "from datasets import load_dataset\n",
    "from peft import LoraConfig, PeftModel\n",
    "\n",
    "from langchain.text_splitter import CharacterTextSplitter\n",
    "from langchain.document_transformers import Html2TextTransformer\n",
    "from langchain.document_loaders import AsyncChromiumLoader\n",
    "\n",
    "from langchain.embeddings.huggingface import HuggingFaceEmbeddings\n",
    "from langchain.vectorstores import FAISS\n",
    "\n",
    "from langchain.prompts import PromptTemplate\n",
    "from langchain.schema.runnable import RunnablePassthrough\n",
    "from langchain.llms import HuggingFacePipeline\n",
    "from langchain.chains import LLMChain"
   ]
  },
  {
   "cell_type": "markdown",
   "id": "180f8d4e-a8bf-4389-b046-9827b310a3b3",
   "metadata": {},
   "source": [
    "### Load quantized Mistal 7B"
   ]
  },
  {
   "cell_type": "code",
   "execution_count": 16,
   "id": "80f94e97-7e58-4253-9376-73af6f36e139",
   "metadata": {
    "tags": []
   },
   "outputs": [
    {
     "name": "stdout",
     "output_type": "stream",
     "text": [
      "================================================================================\n",
      "Your GPU supports bfloat16: accelerate training with bf16=True\n",
      "================================================================================\n"
     ]
    },
    {
     "data": {
      "application/vnd.jupyter.widget-view+json": {
       "model_id": "8cd295b874c04cff886a1364df5d27cb",
       "version_major": 2,
       "version_minor": 0
      },
      "text/plain": [
       "Loading checkpoint shards:   0%|          | 0/2 [00:00<?, ?it/s]"
      ]
     },
     "metadata": {},
     "output_type": "display_data"
    }
   ],
   "source": [
    "#################################################################\n",
    "# Tokenizer\n",
    "#################################################################\n",
    "\n",
    "model_name='mistralai/Mistral-7B-Instruct-v0.1'\n",
    "\n",
    "tokenizer = AutoTokenizer.from_pretrained(model_name, trust_remote_code=True)\n",
    "tokenizer.pad_token = tokenizer.eos_token\n",
    "tokenizer.padding_side = \"right\"\n",
    "\n",
    "#################################################################\n",
    "# bitsandbytes parameters\n",
    "#################################################################\n",
    "\n",
    "# Activate 4-bit precision base model loading\n",
    "use_4bit = True\n",
    "\n",
    "# Compute dtype for 4-bit base models\n",
    "bnb_4bit_compute_dtype = \"float16\"\n",
    "\n",
    "# Quantization type (fp4 or nf4)\n",
    "bnb_4bit_quant_type = \"nf4\"\n",
    "\n",
    "# Activate nested quantization for 4-bit base models (double quantization)\n",
    "use_nested_quant = False\n",
    "\n",
    "#################################################################\n",
    "# Set up quantization config\n",
    "#################################################################\n",
    "compute_dtype = getattr(torch, bnb_4bit_compute_dtype)\n",
    "\n",
    "bnb_config = BitsAndBytesConfig(\n",
    "    load_in_4bit=use_4bit,\n",
    "    bnb_4bit_quant_type=bnb_4bit_quant_type,\n",
    "    bnb_4bit_compute_dtype=compute_dtype,\n",
    "    bnb_4bit_use_double_quant=use_nested_quant,\n",
    ")\n",
    "\n",
    "# Check GPU compatibility with bfloat16\n",
    "if compute_dtype == torch.float16 and use_4bit:\n",
    "    major, _ = torch.cuda.get_device_capability()\n",
    "    if major >= 8:\n",
    "        print(\"=\" * 80)\n",
    "        print(\"Your GPU supports bfloat16: accelerate training with bf16=True\")\n",
    "        print(\"=\" * 80)\n",
    "\n",
    "#################################################################\n",
    "# Load pre-trained config\n",
    "#################################################################\n",
    "model = AutoModelForCausalLM.from_pretrained(\n",
    "    model_name,\n",
    "    quantization_config=bnb_config,\n",
    ")"
   ]
  },
  {
   "cell_type": "markdown",
   "id": "e7fb199a-a537-4bd7-9888-d43a84c8ff69",
   "metadata": {},
   "source": [
    "### Count number of trainable parameters"
   ]
  },
  {
   "cell_type": "code",
   "execution_count": 17,
   "id": "91d2a86e-69e8-496f-b388-853168537c20",
   "metadata": {
    "tags": []
   },
   "outputs": [
    {
     "name": "stdout",
     "output_type": "stream",
     "text": [
      "trainable model parameters: 262410240\n",
      "all model parameters: 3752071168\n",
      "percentage of trainable model parameters: 6.99%\n"
     ]
    }
   ],
   "source": [
    "def print_number_of_trainable_model_parameters(model):\n",
    "    trainable_model_params = 0\n",
    "    all_model_params = 0\n",
    "    for _, param in model.named_parameters():\n",
    "        all_model_params += param.numel()\n",
    "        if param.requires_grad:\n",
    "            trainable_model_params += param.numel()\n",
    "    return f\"trainable model parameters: {trainable_model_params}\\nall model parameters: {all_model_params}\\npercentage of trainable model parameters: {100 * trainable_model_params / all_model_params:.2f}%\"\n",
    "\n",
    "print(print_number_of_trainable_model_parameters(model))"
   ]
  },
  {
   "cell_type": "markdown",
   "id": "5a38c760-f5c8-49c6-9c0c-80719557fee5",
   "metadata": {},
   "source": [
    "### Build Mistral text generation pipeline"
   ]
  },
  {
   "cell_type": "code",
   "execution_count": 18,
   "id": "8c613429-9e6c-4a1e-bc9c-579eb152434b",
   "metadata": {
    "tags": []
   },
   "outputs": [],
   "source": [
    "text_generation_pipeline = pipeline(\n",
    "    model=model,\n",
    "    tokenizer=tokenizer,\n",
    "    task=\"text-generation\",\n",
    "    temperature=0.2,\n",
    "    repetition_penalty=1.1,\n",
    "    return_full_text=True,\n",
    "    max_new_tokens=1000,\n",
    ")"
   ]
  },
  {
   "cell_type": "code",
   "execution_count": 19,
   "id": "c859dd05-9114-42f1-81f2-52a28b7efdd7",
   "metadata": {
    "tags": []
   },
   "outputs": [],
   "source": [
    "mistral_llm = HuggingFacePipeline(pipeline=text_generation_pipeline)"
   ]
  },
  {
   "cell_type": "markdown",
   "id": "e3a07789-78f5-498c-987b-9ed3eb459fe6",
   "metadata": {},
   "source": [
    "### Load and chunk documents. Load chunked documents into FAISS index "
   ]
  },
  {
   "cell_type": "code",
   "execution_count": 11,
   "id": "35e625a4-8d25-453e-bef0-435a6e1aa135",
   "metadata": {
    "collapsed": true,
    "jupyter": {
     "outputs_hidden": true
    },
    "tags": []
   },
   "outputs": [
    {
     "name": "stdout",
     "output_type": "stream",
     "text": [
      "Downloading Chromium 120.0.6099.28 (playwright build v1091)\u001b[2m from https://playwright.azureedge.net/builds/chromium/1091/chromium-linux.zip\u001b[22m\n",
      "\u001b[1G153.1 Mb [                    ] 0% 0.0s\u001b[0K\u001b[1G153.1 Mb [                    ] 0% 32.8s\u001b[0K\u001b[1G153.1 Mb [                    ] 0% 18.6s\u001b[0K\u001b[1G153.1 Mb [                    ] 0% 10.3s\u001b[0K\u001b[1G153.1 Mb [                    ] 1% 6.5s\u001b[0K\u001b[1G153.1 Mb [=                   ] 2% 3.4s\u001b[0K\u001b[1G153.1 Mb [=                   ] 3% 2.7s\u001b[0K\u001b[1G153.1 Mb [=                   ] 5% 2.2s\u001b[0K\u001b[1G153.1 Mb [=                   ] 5% 2.3s\u001b[0K\u001b[1G153.1 Mb [=                   ] 6% 2.3s\u001b[0K\u001b[1G153.1 Mb [=                   ] 7% 2.2s\u001b[0K\u001b[1G153.1 Mb [==                  ] 8% 2.0s\u001b[0K\u001b[1G153.1 Mb [==                  ] 9% 1.9s\u001b[0K\u001b[1G153.1 Mb [==                  ] 9% 2.1s\u001b[0K\u001b[1G153.1 Mb [==                  ] 10% 2.0s\u001b[0K\u001b[1G153.1 Mb [==                  ] 12% 1.9s\u001b[0K\u001b[1G153.1 Mb [===                 ] 13% 1.8s\u001b[0K\u001b[1G153.1 Mb [===                 ] 14% 1.8s\u001b[0K\u001b[1G153.1 Mb [===                 ] 15% 1.7s\u001b[0K\u001b[1G153.1 Mb [===                 ] 16% 1.6s\u001b[0K\u001b[1G153.1 Mb [===                 ] 17% 1.6s\u001b[0K\u001b[1G153.1 Mb [====                ] 18% 1.6s\u001b[0K\u001b[1G153.1 Mb [====                ] 19% 1.5s\u001b[0K\u001b[1G153.1 Mb [====                ] 21% 1.4s\u001b[0K\u001b[1G153.1 Mb [====                ] 22% 1.4s\u001b[0K\u001b[1G153.1 Mb [=====               ] 22% 1.4s\u001b[0K\u001b[1G153.1 Mb [=====               ] 24% 1.3s\u001b[0K\u001b[1G153.1 Mb [=====               ] 25% 1.3s\u001b[0K\u001b[1G153.1 Mb [======              ] 27% 1.2s\u001b[0K\u001b[1G153.1 Mb [======              ] 29% 1.1s\u001b[0K\u001b[1G153.1 Mb [======              ] 31% 1.1s\u001b[0K\u001b[1G153.1 Mb [======              ] 32% 1.1s\u001b[0K\u001b[1G153.1 Mb [=======             ] 34% 1.0s\u001b[0K\u001b[1G153.1 Mb [=======             ] 34% 1.1s\u001b[0K\u001b[1G153.1 Mb [=======             ] 35% 1.0s\u001b[0K\u001b[1G153.1 Mb [=======             ] 36% 1.0s\u001b[0K\u001b[1G153.1 Mb [========            ] 37% 1.0s\u001b[0K\u001b[1G153.1 Mb [========            ] 38% 1.0s\u001b[0K\u001b[1G153.1 Mb [========            ] 39% 1.0s\u001b[0K\u001b[1G153.1 Mb [========            ] 40% 1.0s\u001b[0K\u001b[1G153.1 Mb [========            ] 42% 0.9s\u001b[0K\u001b[1G153.1 Mb [=========           ] 43% 0.9s\u001b[0K\u001b[1G153.1 Mb [=========           ] 45% 0.9s\u001b[0K\u001b[1G153.1 Mb [=========           ] 46% 0.9s\u001b[0K\u001b[1G153.1 Mb [==========          ] 48% 0.8s\u001b[0K\u001b[1G153.1 Mb [==========          ] 49% 0.8s\u001b[0K\u001b[1G153.1 Mb [==========          ] 50% 0.8s\u001b[0K\u001b[1G153.1 Mb [==========          ] 51% 0.8s\u001b[0K\u001b[1G153.1 Mb [==========          ] 52% 0.8s\u001b[0K\u001b[1G153.1 Mb [===========         ] 52% 0.8s\u001b[0K\u001b[1G153.1 Mb [===========         ] 52% 0.9s\u001b[0K\u001b[1G153.1 Mb [===========         ] 54% 0.8s\u001b[0K\u001b[1G153.1 Mb [===========         ] 55% 0.8s\u001b[0K\u001b[1G153.1 Mb [===========         ] 56% 0.8s\u001b[0K\u001b[1G153.1 Mb [============        ] 57% 0.8s\u001b[0K\u001b[1G153.1 Mb [============        ] 58% 0.8s\u001b[0K\u001b[1G153.1 Mb [============        ] 59% 0.8s\u001b[0K\u001b[1G153.1 Mb [============        ] 60% 0.8s\u001b[0K\u001b[1G153.1 Mb [============        ] 61% 0.7s\u001b[0K\u001b[1G153.1 Mb [=============       ] 62% 0.7s\u001b[0K\u001b[1G153.1 Mb [=============       ] 63% 0.7s\u001b[0K\u001b[1G153.1 Mb [=============       ] 64% 0.7s\u001b[0K\u001b[1G153.1 Mb [=============       ] 65% 0.7s\u001b[0K\u001b[1G153.1 Mb [=============       ] 66% 0.6s\u001b[0K\u001b[1G153.1 Mb [=============       ] 67% 0.6s\u001b[0K\u001b[1G153.1 Mb [==============      ] 67% 0.6s\u001b[0K\u001b[1G153.1 Mb [==============      ] 68% 0.6s\u001b[0K\u001b[1G153.1 Mb [==============      ] 69% 0.6s\u001b[0K\u001b[1G153.1 Mb [==============      ] 70% 0.6s\u001b[0K\u001b[1G153.1 Mb [==============      ] 71% 0.6s\u001b[0K\u001b[1G153.1 Mb [===============     ] 72% 0.5s\u001b[0K\u001b[1G153.1 Mb [===============     ] 73% 0.5s\u001b[0K\u001b[1G153.1 Mb [===============     ] 74% 0.5s\u001b[0K\u001b[1G153.1 Mb [===============     ] 75% 0.5s\u001b[0K\u001b[1G153.1 Mb [===============     ] 76% 0.5s\u001b[0K\u001b[1G153.1 Mb [================    ] 77% 0.4s\u001b[0K\u001b[1G153.1 Mb [================    ] 79% 0.4s\u001b[0K\u001b[1G153.1 Mb [================    ] 81% 0.4s\u001b[0K\u001b[1G153.1 Mb [================    ] 82% 0.3s\u001b[0K\u001b[1G153.1 Mb [=================   ] 82% 0.3s\u001b[0K\u001b[1G153.1 Mb [=================   ] 83% 0.3s\u001b[0K\u001b[1G153.1 Mb [=================   ] 84% 0.3s\u001b[0K\u001b[1G153.1 Mb [=================   ] 85% 0.3s\u001b[0K\u001b[1G153.1 Mb [=================   ] 86% 0.3s\u001b[0K\u001b[1G153.1 Mb [==================  ] 87% 0.2s\u001b[0K\u001b[1G153.1 Mb [==================  ] 88% 0.2s\u001b[0K\u001b[1G153.1 Mb [==================  ] 89% 0.2s\u001b[0K\u001b[1G153.1 Mb [==================  ] 90% 0.2s\u001b[0K\u001b[1G153.1 Mb [==================  ] 91% 0.2s\u001b[0K\u001b[1G153.1 Mb [==================  ] 92% 0.2s\u001b[0K\u001b[1G153.1 Mb [=================== ] 93% 0.1s\u001b[0K\u001b[1G153.1 Mb [=================== ] 94% 0.1s\u001b[0K\u001b[1G153.1 Mb [=================== ] 95% 0.1s\u001b[0K\u001b[1G153.1 Mb [=================== ] 96% 0.1s\u001b[0K\u001b[1G153.1 Mb [====================] 98% 0.0s\u001b[0K\u001b[1G153.1 Mb [====================] 99% 0.0s\u001b[0K\u001b[1G153.1 Mb [====================] 100% 0.0s\u001b[0K\n",
      "Chromium 120.0.6099.28 (playwright build v1091) downloaded to /home/jupyter/.cache/ms-playwright/chromium-1091\n",
      "Downloading FFMPEG playwright build v1009\u001b[2m from https://playwright.azureedge.net/builds/ffmpeg/1009/ffmpeg-linux.zip\u001b[22m\n",
      "\u001b[1G2.6 Mb [                    ] 0% 0.0s\u001b[0K\u001b[1G2.6 Mb [=                   ] 4% 0.4s\u001b[0K\u001b[1G2.6 Mb [===                 ] 15% 0.2s\u001b[0K\u001b[1G2.6 Mb [==========          ] 49% 0.1s\u001b[0K\u001b[1G2.6 Mb [====================] 100% 0.0s\u001b[0K\n",
      "FFMPEG playwright build v1009 downloaded to /home/jupyter/.cache/ms-playwright/ffmpeg-1009\n",
      "Downloading Firefox 119.0 (playwright build v1429)\u001b[2m from https://playwright.azureedge.net/builds/firefox/1429/firefox-debian-11.zip\u001b[22m\n",
      "\u001b[1G80.9 Mb [                    ] 0% 0.0s\u001b[0K\u001b[1G80.9 Mb [                    ] 0% 18.2s\u001b[0K\u001b[1G80.9 Mb [                    ] 0% 8.3s\u001b[0K\u001b[1G80.9 Mb [                    ] 1% 5.3s\u001b[0K\u001b[1G80.9 Mb [=                   ] 2% 2.7s\u001b[0K\u001b[1G80.9 Mb [=                   ] 4% 1.9s\u001b[0K\u001b[1G80.9 Mb [=                   ] 6% 1.5s\u001b[0K\u001b[1G80.9 Mb [==                  ] 9% 1.2s\u001b[0K\u001b[1G80.9 Mb [===                 ] 12% 0.9s\u001b[0K\u001b[1G80.9 Mb [===                 ] 15% 0.8s\u001b[0K\u001b[1G80.9 Mb [===                 ] 17% 0.8s\u001b[0K\u001b[1G80.9 Mb [====                ] 18% 0.8s\u001b[0K\u001b[1G80.9 Mb [====                ] 20% 0.8s\u001b[0K\u001b[1G80.9 Mb [====                ] 22% 0.8s\u001b[0K\u001b[1G80.9 Mb [=====               ] 23% 0.8s\u001b[0K\u001b[1G80.9 Mb [=====               ] 24% 0.8s\u001b[0K\u001b[1G80.9 Mb [=====               ] 27% 0.7s\u001b[0K\u001b[1G80.9 Mb [======              ] 29% 0.7s\u001b[0K\u001b[1G80.9 Mb [======              ] 30% 0.7s\u001b[0K\u001b[1G80.9 Mb [======              ] 32% 0.7s\u001b[0K\u001b[1G80.9 Mb [=======             ] 33% 0.6s\u001b[0K\u001b[1G80.9 Mb [=======             ] 36% 0.6s\u001b[0K\u001b[1G80.9 Mb [========            ] 38% 0.6s\u001b[0K\u001b[1G80.9 Mb [========            ] 39% 0.6s\u001b[0K\u001b[1G80.9 Mb [========            ] 41% 0.6s\u001b[0K\u001b[1G80.9 Mb [=========           ] 42% 0.6s\u001b[0K\u001b[1G80.9 Mb [=========           ] 45% 0.5s\u001b[0K\u001b[1G80.9 Mb [==========          ] 48% 0.5s\u001b[0K\u001b[1G80.9 Mb [==========          ] 49% 0.5s\u001b[0K\u001b[1G80.9 Mb [==========          ] 52% 0.4s\u001b[0K\u001b[1G80.9 Mb [===========         ] 54% 0.4s\u001b[0K\u001b[1G80.9 Mb [===========         ] 57% 0.4s\u001b[0K\u001b[1G80.9 Mb [============        ] 59% 0.4s\u001b[0K\u001b[1G80.9 Mb [============        ] 60% 0.4s\u001b[0K\u001b[1G80.9 Mb [============        ] 62% 0.3s\u001b[0K\u001b[1G80.9 Mb [=============       ] 62% 0.3s\u001b[0K\u001b[1G80.9 Mb [=============       ] 63% 0.3s\u001b[0K\u001b[1G80.9 Mb [=============       ] 65% 0.3s\u001b[0K\u001b[1G80.9 Mb [=============       ] 67% 0.3s\u001b[0K\u001b[1G80.9 Mb [==============      ] 69% 0.3s\u001b[0K\u001b[1G80.9 Mb [==============      ] 71% 0.3s\u001b[0K\u001b[1G80.9 Mb [===============     ] 73% 0.3s\u001b[0K\u001b[1G80.9 Mb [===============     ] 75% 0.2s\u001b[0K\u001b[1G80.9 Mb [===============     ] 77% 0.2s\u001b[0K\u001b[1G80.9 Mb [================    ] 79% 0.2s\u001b[0K\u001b[1G80.9 Mb [================    ] 81% 0.2s\u001b[0K\u001b[1G80.9 Mb [=================   ] 82% 0.2s\u001b[0K\u001b[1G80.9 Mb [=================   ] 84% 0.1s\u001b[0K\u001b[1G80.9 Mb [=================   ] 86% 0.1s\u001b[0K\u001b[1G80.9 Mb [==================  ] 88% 0.1s\u001b[0K\u001b[1G80.9 Mb [==================  ] 91% 0.1s\u001b[0K\u001b[1G80.9 Mb [=================== ] 93% 0.1s\u001b[0K\u001b[1G80.9 Mb [=================== ] 95% 0.0s\u001b[0K\u001b[1G80.9 Mb [====================] 97% 0.0s\u001b[0K\u001b[1G80.9 Mb [====================] 99% 0.0s\u001b[0K\u001b[1G80.9 Mb [====================] 100% 0.0s\u001b[0K\n",
      "Firefox 119.0 (playwright build v1429) downloaded to /home/jupyter/.cache/ms-playwright/firefox-1429\n",
      "Downloading Webkit 17.4 (playwright build v1944)\u001b[2m from https://playwright.azureedge.net/builds/webkit/1944/webkit-debian-11.zip\u001b[22m\n",
      "\u001b[1G88.9 Mb [                    ] 0% 0.0s\u001b[0K\u001b[1G88.9 Mb [                    ] 0% 20.0s\u001b[0K\u001b[1G88.9 Mb [                    ] 0% 8.8s\u001b[0K\u001b[1G88.9 Mb [                    ] 1% 3.7s\u001b[0K\u001b[1G88.9 Mb [=                   ] 3% 2.1s\u001b[0K\u001b[1G88.9 Mb [=                   ] 4% 1.8s\u001b[0K\u001b[1G88.9 Mb [=                   ] 6% 1.4s\u001b[0K\u001b[1G88.9 Mb [==                  ] 9% 1.2s\u001b[0K\u001b[1G88.9 Mb [==                  ] 11% 1.1s\u001b[0K\u001b[1G88.9 Mb [==                  ] 12% 1.1s\u001b[0K\u001b[1G88.9 Mb [===                 ] 13% 1.1s\u001b[0K\u001b[1G88.9 Mb [===                 ] 14% 1.1s\u001b[0K\u001b[1G88.9 Mb [===                 ] 16% 1.0s\u001b[0K\u001b[1G88.9 Mb [====                ] 18% 1.0s\u001b[0K\u001b[1G88.9 Mb [====                ] 19% 1.0s\u001b[0K\u001b[1G88.9 Mb [====                ] 21% 0.9s\u001b[0K\u001b[1G88.9 Mb [=====               ] 23% 0.9s\u001b[0K\u001b[1G88.9 Mb [=====               ] 25% 0.8s\u001b[0K\u001b[1G88.9 Mb [=====               ] 27% 0.8s\u001b[0K\u001b[1G88.9 Mb [======              ] 29% 0.8s\u001b[0K\u001b[1G88.9 Mb [======              ] 30% 0.8s\u001b[0K\u001b[1G88.9 Mb [=======             ] 32% 0.7s\u001b[0K\u001b[1G88.9 Mb [=======             ] 34% 0.7s\u001b[0K\u001b[1G88.9 Mb [=======             ] 36% 0.7s\u001b[0K\u001b[1G88.9 Mb [========            ] 37% 0.7s\u001b[0K\u001b[1G88.9 Mb [========            ] 39% 0.6s\u001b[0K\u001b[1G88.9 Mb [========            ] 40% 0.6s\u001b[0K\u001b[1G88.9 Mb [========            ] 41% 0.6s\u001b[0K\u001b[1G88.9 Mb [=========           ] 42% 0.6s\u001b[0K\u001b[1G88.9 Mb [=========           ] 45% 0.6s\u001b[0K\u001b[1G88.9 Mb [==========          ] 47% 0.5s\u001b[0K\u001b[1G88.9 Mb [==========          ] 49% 0.5s\u001b[0K\u001b[1G88.9 Mb [==========          ] 51% 0.5s\u001b[0K\u001b[1G88.9 Mb [===========         ] 53% 0.5s\u001b[0K\u001b[1G88.9 Mb [===========         ] 55% 0.5s\u001b[0K\u001b[1G88.9 Mb [===========         ] 56% 0.4s\u001b[0K\u001b[1G88.9 Mb [============        ] 58% 0.4s\u001b[0K\u001b[1G88.9 Mb [============        ] 60% 0.4s\u001b[0K\u001b[1G88.9 Mb [============        ] 61% 0.4s\u001b[0K\u001b[1G88.9 Mb [=============       ] 63% 0.4s\u001b[0K\u001b[1G88.9 Mb [=============       ] 65% 0.3s\u001b[0K\u001b[1G88.9 Mb [==============      ] 67% 0.3s\u001b[0K\u001b[1G88.9 Mb [==============      ] 70% 0.3s\u001b[0K\u001b[1G88.9 Mb [==============      ] 71% 0.3s\u001b[0K\u001b[1G88.9 Mb [===============     ] 73% 0.3s\u001b[0K\u001b[1G88.9 Mb [===============     ] 75% 0.2s\u001b[0K\u001b[1G88.9 Mb [===============     ] 76% 0.2s\u001b[0K\u001b[1G88.9 Mb [================    ] 78% 0.2s\u001b[0K\u001b[1G88.9 Mb [================    ] 80% 0.2s\u001b[0K\u001b[1G88.9 Mb [================    ] 81% 0.2s\u001b[0K\u001b[1G88.9 Mb [=================   ] 83% 0.2s\u001b[0K\u001b[1G88.9 Mb [=================   ] 85% 0.1s\u001b[0K\u001b[1G88.9 Mb [==================  ] 87% 0.1s\u001b[0K\u001b[1G88.9 Mb [==================  ] 89% 0.1s\u001b[0K\u001b[1G88.9 Mb [==================  ] 90% 0.1s\u001b[0K\u001b[1G88.9 Mb [==================  ] 92% 0.1s\u001b[0K\u001b[1G88.9 Mb [=================== ] 94% 0.1s\u001b[0K\u001b[1G88.9 Mb [=================== ] 96% 0.0s\u001b[0K\u001b[1G88.9 Mb [====================] 99% 0.0s\u001b[0K\u001b[1G88.9 Mb [====================] 100% 0.0s\u001b[0K\n",
      "Webkit 17.4 (playwright build v1944) downloaded to /home/jupyter/.cache/ms-playwright/webkit-1944\n"
     ]
    }
   ],
   "source": [
    "!playwright install \n",
    "!playwright install-deps "
   ]
  },
  {
   "cell_type": "code",
   "execution_count": 20,
   "id": "79a2e41f-aee3-47ff-92a1-74970f3b313a",
   "metadata": {
    "tags": []
   },
   "outputs": [],
   "source": [
    "import nest_asyncio\n",
    "nest_asyncio.apply()\n",
    "\n",
    "# Articles to index\n",
    "articles = [\"https://www.fantasypros.com/2023/11/rival-fantasy-nfl-week-10/\",\n",
    "            \"https://www.fantasypros.com/2023/11/5-stats-to-know-before-setting-your-fantasy-lineup-week-10/\",\n",
    "            \"https://www.fantasypros.com/2023/11/nfl-week-10-sleeper-picks-player-predictions-2023/\",\n",
    "            \"https://www.fantasypros.com/2023/11/nfl-dfs-week-10-stacking-advice-picks-2023-fantasy-football/\",\n",
    "            \"https://www.fantasypros.com/2023/11/players-to-buy-low-sell-high-trade-advice-2023-fantasy-football/\"]\n",
    "\n",
    "# Scrapes the blogs above\n",
    "loader = AsyncChromiumLoader(articles)\n",
    "docs = loader.load()"
   ]
  },
  {
   "cell_type": "code",
   "execution_count": 21,
   "id": "ff328fea-b7c7-4ca3-915c-39c0ebaa2f7a",
   "metadata": {
    "collapsed": true,
    "jupyter": {
     "outputs_hidden": true
    },
    "tags": []
   },
   "outputs": [
    {
     "name": "stderr",
     "output_type": "stream",
     "text": [
      "Created a chunk of size 146, which is longer than the specified 100\n",
      "Created a chunk of size 4148, which is longer than the specified 100\n",
      "Created a chunk of size 178, which is longer than the specified 100\n",
      "Created a chunk of size 422, which is longer than the specified 100\n",
      "Created a chunk of size 282, which is longer than the specified 100\n",
      "Created a chunk of size 498, which is longer than the specified 100\n",
      "Created a chunk of size 164, which is longer than the specified 100\n",
      "Created a chunk of size 413, which is longer than the specified 100\n",
      "Created a chunk of size 242, which is longer than the specified 100\n",
      "Created a chunk of size 203, which is longer than the specified 100\n",
      "Created a chunk of size 456, which is longer than the specified 100\n",
      "Created a chunk of size 404, which is longer than the specified 100\n",
      "Created a chunk of size 145, which is longer than the specified 100\n",
      "Created a chunk of size 127, which is longer than the specified 100\n",
      "Created a chunk of size 232, which is longer than the specified 100\n",
      "Created a chunk of size 139, which is longer than the specified 100\n",
      "Created a chunk of size 221, which is longer than the specified 100\n",
      "Created a chunk of size 154, which is longer than the specified 100\n",
      "Created a chunk of size 121, which is longer than the specified 100\n",
      "Created a chunk of size 380, which is longer than the specified 100\n",
      "Created a chunk of size 234, which is longer than the specified 100\n",
      "Created a chunk of size 123, which is longer than the specified 100\n",
      "Created a chunk of size 230, which is longer than the specified 100\n",
      "Created a chunk of size 346, which is longer than the specified 100\n",
      "Created a chunk of size 112, which is longer than the specified 100\n",
      "Created a chunk of size 142, which is longer than the specified 100\n",
      "Created a chunk of size 108, which is longer than the specified 100\n",
      "Created a chunk of size 120, which is longer than the specified 100\n",
      "Created a chunk of size 232, which is longer than the specified 100\n",
      "Created a chunk of size 118, which is longer than the specified 100\n",
      "Created a chunk of size 142, which is longer than the specified 100\n",
      "Created a chunk of size 122, which is longer than the specified 100\n",
      "Created a chunk of size 293, which is longer than the specified 100\n",
      "Created a chunk of size 146, which is longer than the specified 100\n",
      "Created a chunk of size 4148, which is longer than the specified 100\n",
      "Created a chunk of size 403, which is longer than the specified 100\n",
      "Created a chunk of size 146, which is longer than the specified 100\n",
      "Created a chunk of size 136, which is longer than the specified 100\n",
      "Created a chunk of size 267, which is longer than the specified 100\n",
      "Created a chunk of size 203, which is longer than the specified 100\n",
      "Created a chunk of size 541, which is longer than the specified 100\n",
      "Created a chunk of size 120, which is longer than the specified 100\n",
      "Created a chunk of size 300, which is longer than the specified 100\n",
      "Created a chunk of size 324, which is longer than the specified 100\n",
      "Created a chunk of size 281, which is longer than the specified 100\n",
      "Created a chunk of size 305, which is longer than the specified 100\n",
      "Created a chunk of size 333, which is longer than the specified 100\n",
      "Created a chunk of size 457, which is longer than the specified 100\n",
      "Created a chunk of size 421, which is longer than the specified 100\n",
      "Created a chunk of size 528, which is longer than the specified 100\n",
      "Created a chunk of size 154, which is longer than the specified 100\n",
      "Created a chunk of size 592, which is longer than the specified 100\n",
      "Created a chunk of size 633, which is longer than the specified 100\n",
      "Created a chunk of size 128, which is longer than the specified 100\n",
      "Created a chunk of size 235, which is longer than the specified 100\n",
      "Created a chunk of size 303, which is longer than the specified 100\n",
      "Created a chunk of size 658, which is longer than the specified 100\n",
      "Created a chunk of size 155, which is longer than the specified 100\n",
      "Created a chunk of size 236, which is longer than the specified 100\n",
      "Created a chunk of size 520, which is longer than the specified 100\n",
      "Created a chunk of size 172, which is longer than the specified 100\n",
      "Created a chunk of size 162, which is longer than the specified 100\n",
      "Created a chunk of size 438, which is longer than the specified 100\n",
      "Created a chunk of size 333, which is longer than the specified 100\n",
      "Created a chunk of size 581, which is longer than the specified 100\n",
      "Created a chunk of size 183, which is longer than the specified 100\n",
      "Created a chunk of size 432, which is longer than the specified 100\n",
      "Created a chunk of size 208, which is longer than the specified 100\n",
      "Created a chunk of size 242, which is longer than the specified 100\n",
      "Created a chunk of size 574, which is longer than the specified 100\n",
      "Created a chunk of size 204, which is longer than the specified 100\n",
      "Created a chunk of size 105, which is longer than the specified 100\n",
      "Created a chunk of size 741, which is longer than the specified 100\n",
      "Created a chunk of size 112, which is longer than the specified 100\n",
      "Created a chunk of size 108, which is longer than the specified 100\n",
      "Created a chunk of size 120, which is longer than the specified 100\n",
      "Created a chunk of size 232, which is longer than the specified 100\n",
      "Created a chunk of size 118, which is longer than the specified 100\n",
      "Created a chunk of size 142, which is longer than the specified 100\n",
      "Created a chunk of size 122, which is longer than the specified 100\n",
      "Created a chunk of size 293, which is longer than the specified 100\n"
     ]
    }
   ],
   "source": [
    "# Converts HTML to plain text \n",
    "html2text = Html2TextTransformer()\n",
    "docs_transformed = html2text.transform_documents(docs)\n",
    "\n",
    "# Chunk text\n",
    "text_splitter = CharacterTextSplitter(chunk_size=100, \n",
    "                                      chunk_overlap=0)\n",
    "chunked_documents = text_splitter.split_documents(docs_transformed)\n",
    "\n",
    "# Load chunked documents into the FAISS index\n",
    "db = FAISS.from_documents(chunked_documents, \n",
    "                          HuggingFaceEmbeddings(model_name='sentence-transformers/all-mpnet-base-v2'))\n",
    "\n",
    "retriever = db.as_retriever()"
   ]
  },
  {
   "cell_type": "markdown",
   "id": "93d54a0b-bf6c-4a24-b888-4c3283b9ccf6",
   "metadata": {},
   "source": [
    "### Create PromptTemplate and LLMChain"
   ]
  },
  {
   "cell_type": "code",
   "execution_count": 22,
   "id": "3bd688c2-25ac-4d65-88c6-635f9c95ada4",
   "metadata": {
    "tags": []
   },
   "outputs": [],
   "source": [
    "prompt_template = \"\"\"\n",
    "### [INST] Instruction: Answer the question based on your fantasy football knowledge. Here is context to help:\n",
    "\n",
    "{context}\n",
    "\n",
    "### QUESTION:\n",
    "{question} [/INST]\n",
    " \"\"\"\n",
    "\n",
    "# Create prompt from prompt template \n",
    "prompt = PromptTemplate(\n",
    "    input_variables=[\"context\", \"question\"],\n",
    "    template=prompt_template,\n",
    ")\n",
    "\n",
    "# Create llm chain \n",
    "llm_chain = LLMChain(llm=mistral_llm, prompt=prompt)"
   ]
  },
  {
   "cell_type": "markdown",
   "id": "c1e75d34-cf63-49a8-a671-88ccb5444367",
   "metadata": {},
   "source": [
    "### Build RAG Chain"
   ]
  },
  {
   "cell_type": "code",
   "execution_count": 26,
   "id": "a1e18178-46f2-4b87-86c4-d13ff5219968",
   "metadata": {
    "tags": []
   },
   "outputs": [
    {
     "name": "stderr",
     "output_type": "stream",
     "text": [
      "/opt/conda/lib/python3.10/site-packages/transformers/generation/configuration_utils.py:389: UserWarning: `do_sample` is set to `False`. However, `temperature` is set to `0.2` -- this flag is only used in sample-based generation modes. You should set `do_sample=True` or unset `temperature`.\n",
      "  warnings.warn(\n",
      "Setting `pad_token_id` to `eos_token_id`:2 for open-end generation.\n"
     ]
    }
   ],
   "source": [
    "rag_chain = ( \n",
    " {\"context\": retriever, \"question\": RunnablePassthrough()}\n",
    "    | llm_chain\n",
    ")\n",
    "\n",
    "result = rag_chain.invoke(\"Should I start Gibbs next week for fantasy?\")"
   ]
  },
  {
   "cell_type": "code",
   "execution_count": 27,
   "id": "ef54e9e3-4fa5-4676-baaf-8b11e3f09dc0",
   "metadata": {
    "tags": []
   },
   "outputs": [
    {
     "data": {
      "text/plain": [
       "[Document(page_content='This week, Harris faces the bottom-of-the-barrel Packers’ run defense that\\nallows the ninth-most fantasy points per game to the running back position.\\nHarris will give you a higher-volume RB with a low rostership percentage this\\nweek.', metadata={'source': 'https://www.fantasypros.com/2023/11/nfl-dfs-week-10-stacking-advice-picks-2023-fantasy-football/'}),\n",
       " Document(page_content='could start cutting into his workload. Furthermore, his rest of the season\\nschedule isn’t fantasy-friendly. Try to flip Edwards and a WR3 for Kenneth\\nWalker or Tony Pollard', metadata={'source': 'https://www.fantasypros.com/2023/11/players-to-buy-low-sell-high-trade-advice-2023-fantasy-football/'}),\n",
       " Document(page_content='“ **Gus Edwards** has been on fire lately. He is the RB1 over the past three\\nweeks, averaging 22.2 half-point PPR fantasy points and two rushing touchdowns\\nper game. However, over 54% of his fantasy production came from the six\\nrushing touchdowns. Meanwhile, the veteran averaged only 6.5 fantasy points\\nper game over the first six contests. He had more than six fantasy points only\\nonce, in the Week 2 matchup where Edwards found the end zone. The veteran\\nrunning back is a touchdown-or-bust player, and Keaton Mitchell', metadata={'source': 'https://www.fantasypros.com/2023/11/players-to-buy-low-sell-high-trade-advice-2023-fantasy-football/'}),\n",
       " Document(page_content='is on track to play in Week 10. More importantly, Brown is Arizona’s clear-cut\\nNo. 1 weapon, seeing 34 more targets than any other Cardinal this season. Last\\nyear, the former Oklahoma star averaged 13.7 fantasy points per game and had a\\n26% TPPR (per Fantasy Points Data) with Murray under center. I would flip\\nJakobi Meyers', metadata={'source': 'https://www.fantasypros.com/2023/11/players-to-buy-low-sell-high-trade-advice-2023-fantasy-football/'})]"
      ]
     },
     "execution_count": 27,
     "metadata": {},
     "output_type": "execute_result"
    }
   ],
   "source": [
    "result['context']"
   ]
  },
  {
   "cell_type": "code",
   "execution_count": 28,
   "id": "62895f39-9dfb-4f58-8312-72580ca03a20",
   "metadata": {
    "tags": []
   },
   "outputs": [
    {
     "name": "stdout",
     "output_type": "stream",
     "text": [
      "\n",
      "Based on the information provided, it seems like there are several factors to consider before deciding whether to start Gibbs next week for fantasy. Here are some key points to keep in mind:\n",
      "\n",
      "* Gibbs has been performing well so far this season, averaging 18.9 fantasy points per game and scoring four touchdowns in his last five games.\n",
      "* However, he may face some competition for touches next week, as the Packers' run defense has allowed the ninth-most fantasy points per game to the running back position. This could potentially cut into Gibbs' workload.\n",
      "* Additionally, Gibbs' schedule for the rest of the season may not be particularly favorable for fantasy owners. He has some tough matchups coming up against teams with strong defenses, such as the Bills and the Steelers.\n",
      "* On the other hand, Gus Edwards has been on fire lately and is currently the RB1 over the past three weeks. However, he is a touchdown-or-bust player and his production comes mostly from rushing touchdowns.\n",
      "* Finally, Brown is Arizona's clear-cut No. 1 weapon and has seen more targets than any other Cardinal this season. Last year, he averaged 13.7 fantasy points per game and had a 26% TPPR with Murray under center.\n",
      "\n",
      "Overall, while Gibbs has been performing well so far, it's important to keep an eye on his workload and schedule moving forward. If you have other options available to you, you may want to consider starting someone else next week, especially if they have a more favorable matchup or schedule.\n"
     ]
    }
   ],
   "source": [
    "print(result['text'])"
   ]
  },
  {
   "cell_type": "code",
   "execution_count": null,
   "id": "63253cbc-9de3-41b9-a5c8-b672333f479c",
   "metadata": {},
   "outputs": [],
   "source": []
  }
 ],
 "metadata": {
  "environment": {
   "kernel": "python3",
   "name": "common-gpu.m114",
   "type": "gcloud",
   "uri": "gcr.io/deeplearning-platform-release/base-gpu:m114"
  },
  "kernelspec": {
   "display_name": "Python 3",
   "language": "python",
   "name": "python3"
  },
  "language_info": {
   "codemirror_mode": {
    "name": "ipython",
    "version": 3
   },
   "file_extension": ".py",
   "mimetype": "text/x-python",
   "name": "python",
   "nbconvert_exporter": "python",
   "pygments_lexer": "ipython3",
   "version": "3.10.13"
  }
 },
 "nbformat": 4,
 "nbformat_minor": 5
}
